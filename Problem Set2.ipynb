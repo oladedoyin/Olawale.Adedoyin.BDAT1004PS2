{
 "cells": [
  {
   "cell_type": "markdown",
   "id": "1915dbbd",
   "metadata": {},
   "source": [
    "Question 1"
   ]
  },
  {
   "cell_type": "code",
   "execution_count": 4,
   "id": "87b1c1a1",
   "metadata": {},
   "outputs": [
    {
     "name": "stdout",
     "output_type": "stream",
     "text": [
      "6\n"
     ]
    }
   ],
   "source": [
    "a = 0\n",
    "def b():\n",
    "    global a\n",
    "    a = c(a)\n",
    "def c(a):\n",
    "    return a + 2\n",
    "\n",
    "#Execution\n",
    "b()\n",
    "b()\n",
    "b()\n",
    "\n",
    "print(a)"
   ]
  },
  {
   "cell_type": "markdown",
   "id": "fdd22e5a",
   "metadata": {},
   "source": [
    "The value 6 is displayed as the output. This occured as a result of the b() function been called 3 times, and every time it updates the global variable a by calling the c() function. The C() function adds 2 to the current value of a and this will return the recent updated value. "
   ]
  },
  {
   "cell_type": "markdown",
   "id": "59382108",
   "metadata": {},
   "source": [
    "Question 2\n"
   ]
  },
  {
   "cell_type": "code",
   "execution_count": 11,
   "id": "45ab4d42",
   "metadata": {},
   "outputs": [],
   "source": [
    "def fileLength(name):\n",
    "    try:\n",
    "        infile = open(name, 'r')\n",
    "        content = infile.read()\n",
    "        infile.close()\n",
    "        length = len(content)\n",
    "        return length\n",
    "    except FileNotFoundError:\n",
    "        print(\"File\", name, \"not found, check directory.\")\n",
    "    except PermissionError:\n",
    "        print(\"Permission denied: Unable to read the file\", name)"
   ]
  },
  {
   "cell_type": "code",
   "execution_count": 12,
   "id": "e3454353",
   "metadata": {},
   "outputs": [
    {
     "name": "stdout",
     "output_type": "stream",
     "text": [
      "File midterm.py not found, check directory.\n",
      "File idterm.py not found, check directory.\n"
     ]
    }
   ],
   "source": [
    "fileLength('midterm.py')\n",
    "fileLength('idterm.py')"
   ]
  },
  {
   "cell_type": "code",
   "execution_count": null,
   "id": "950cea83",
   "metadata": {},
   "outputs": [],
   "source": [
    "Question 3"
   ]
  },
  {
   "cell_type": "code",
   "execution_count": 13,
   "id": "ed836bb1",
   "metadata": {},
   "outputs": [],
   "source": [
    "class Marsupial():\n",
    "    def __init__(self):\n",
    "        self.content = []\n",
    "    \n",
    "    def put_in_pouch(self,input:str):\n",
    "        self.content.append(input)\n",
    "    \n",
    "    def pouch_contents(self):\n",
    "        print(self.content)\n",
    "\n",
    "class kangaroo(Marsupial):\n",
    "    def __init__(self, x, y):\n",
    "        super().__init__()\n",
    "        self.x = x\n",
    "        self.y = y\n",
    "    def jump(self, dx, dy):\n",
    "        self.x +=dx\n",
    "        self.y +=dy\n",
    "    \n",
    "    def __str__(self):\n",
    "        return f\"I am a kangaroo located at coordinates ({self.x}, {self.y})\""
   ]
  },
  {
   "cell_type": "code",
   "execution_count": 16,
   "id": "7b9da103",
   "metadata": {},
   "outputs": [
    {
     "name": "stdout",
     "output_type": "stream",
     "text": [
      "['doll', 'firetruck', 'kitten']\n"
     ]
    }
   ],
   "source": [
    "m = Marsupial()\n",
    "m.put_in_pouch('doll')\n",
    "m.put_in_pouch('firetruck')\n",
    "m.put_in_pouch('kitten')\n",
    "m.pouch_contents()"
   ]
  },
  {
   "cell_type": "code",
   "execution_count": 17,
   "id": "0e1915fd",
   "metadata": {},
   "outputs": [
    {
     "name": "stdout",
     "output_type": "stream",
     "text": [
      "I am a kangaroo located at coordinates (0, 0)\n"
     ]
    }
   ],
   "source": [
    "k = kangaroo(0,0)\n",
    "print(k)"
   ]
  },
  {
   "cell_type": "code",
   "execution_count": 18,
   "id": "c778a82c",
   "metadata": {},
   "outputs": [
    {
     "name": "stdout",
     "output_type": "stream",
     "text": [
      "['doll', 'firetruck', 'kitten']\n"
     ]
    }
   ],
   "source": [
    "k.put_in_pouch('doll')\n",
    "k.put_in_pouch('firetruck')\n",
    "k.put_in_pouch('kitten')\n",
    "k.pouch_contents()"
   ]
  },
  {
   "cell_type": "code",
   "execution_count": 19,
   "id": "e33e4f1b",
   "metadata": {},
   "outputs": [
    {
     "name": "stdout",
     "output_type": "stream",
     "text": [
      "I am a kangaroo located at coordinates (3, 0)\n"
     ]
    }
   ],
   "source": [
    "k.jump(1,0)\n",
    "k.jump(1,0)\n",
    "k.jump(1,0)\n",
    "print(k)"
   ]
  },
  {
   "cell_type": "markdown",
   "id": "9eaef3ef",
   "metadata": {},
   "source": [
    "Question 4"
   ]
  },
  {
   "cell_type": "code",
   "execution_count": 20,
   "id": "e4f02cdb",
   "metadata": {},
   "outputs": [],
   "source": [
    "def collatz(x):\n",
    "    print(x)\n",
    "    if x == 1:\n",
    "        return\n",
    "    if x % 2 == 0:\n",
    "        collatz(x // 2)\n",
    "    else:\n",
    "        collatz(3 * x + 1)"
   ]
  },
  {
   "cell_type": "code",
   "execution_count": 22,
   "id": "0cee5594",
   "metadata": {},
   "outputs": [
    {
     "name": "stdout",
     "output_type": "stream",
     "text": [
      "1\n"
     ]
    }
   ],
   "source": [
    "collatz(1)"
   ]
  },
  {
   "cell_type": "code",
   "execution_count": 23,
   "id": "b177b00e",
   "metadata": {},
   "outputs": [
    {
     "name": "stdout",
     "output_type": "stream",
     "text": [
      "10\n",
      "5\n",
      "16\n",
      "8\n",
      "4\n",
      "2\n",
      "1\n"
     ]
    }
   ],
   "source": [
    "collatz(10)"
   ]
  },
  {
   "cell_type": "markdown",
   "id": "cb076bd7",
   "metadata": {},
   "source": [
    "Question 5"
   ]
  },
  {
   "cell_type": "code",
   "execution_count": 24,
   "id": "bd9425be",
   "metadata": {},
   "outputs": [],
   "source": [
    "def binary(n):\n",
    "    if n == 0:\n",
    "        return 0\n",
    "    else:\n",
    "        return (n % 2 + 10 * binary(int(n // 2)))"
   ]
  },
  {
   "cell_type": "code",
   "execution_count": 25,
   "id": "0efcad23",
   "metadata": {},
   "outputs": [
    {
     "data": {
      "text/plain": [
       "0"
      ]
     },
     "execution_count": 25,
     "metadata": {},
     "output_type": "execute_result"
    }
   ],
   "source": [
    "binary(0)"
   ]
  },
  {
   "cell_type": "code",
   "execution_count": 26,
   "id": "83f6d081",
   "metadata": {},
   "outputs": [
    {
     "data": {
      "text/plain": [
       "1"
      ]
     },
     "execution_count": 26,
     "metadata": {},
     "output_type": "execute_result"
    }
   ],
   "source": [
    "binary(1)"
   ]
  },
  {
   "cell_type": "code",
   "execution_count": 27,
   "id": "aafec6db",
   "metadata": {},
   "outputs": [
    {
     "data": {
      "text/plain": [
       "11"
      ]
     },
     "execution_count": 27,
     "metadata": {},
     "output_type": "execute_result"
    }
   ],
   "source": [
    "binary(3)"
   ]
  },
  {
   "cell_type": "code",
   "execution_count": 28,
   "id": "102539e2",
   "metadata": {},
   "outputs": [
    {
     "data": {
      "text/plain": [
       "1001"
      ]
     },
     "execution_count": 28,
     "metadata": {},
     "output_type": "execute_result"
    }
   ],
   "source": [
    "binary(9)"
   ]
  },
  {
   "cell_type": "markdown",
   "id": "92ec9d75",
   "metadata": {},
   "source": [
    "Question 8"
   ]
  },
  {
   "cell_type": "code",
   "execution_count": 29,
   "id": "ad6adbcf",
   "metadata": {},
   "outputs": [
    {
     "name": "stdout",
     "output_type": "stream",
     "text": [
      "Collecting ipython-sql\n",
      "  Downloading ipython_sql-0.5.0-py3-none-any.whl (20 kB)\n",
      "Collecting sqlparse\n",
      "  Downloading sqlparse-0.4.4-py3-none-any.whl (41 kB)\n",
      "     -------------------------------------- 41.2/41.2 kB 998.2 kB/s eta 0:00:00\n",
      "Requirement already satisfied: ipython in c:\\users\\13437\\anaconda3\\lib\\site-packages (from ipython-sql) (8.10.0)\n",
      "Collecting sqlalchemy>=2.0\n",
      "  Downloading SQLAlchemy-2.0.18-cp310-cp310-win_amd64.whl (2.0 MB)\n",
      "     ---------------------------------------- 2.0/2.0 MB 14.1 MB/s eta 0:00:00\n",
      "Requirement already satisfied: six in c:\\users\\13437\\anaconda3\\lib\\site-packages (from ipython-sql) (1.16.0)\n",
      "Collecting prettytable\n",
      "  Downloading prettytable-3.8.0-py3-none-any.whl (27 kB)\n",
      "Requirement already satisfied: ipython-genutils in c:\\users\\13437\\anaconda3\\lib\\site-packages (from ipython-sql) (0.2.0)\n",
      "Requirement already satisfied: greenlet!=0.4.17 in c:\\users\\13437\\anaconda3\\lib\\site-packages (from sqlalchemy>=2.0->ipython-sql) (2.0.1)\n",
      "Requirement already satisfied: typing-extensions>=4.2.0 in c:\\users\\13437\\anaconda3\\lib\\site-packages (from sqlalchemy>=2.0->ipython-sql) (4.4.0)\n",
      "Requirement already satisfied: backcall in c:\\users\\13437\\anaconda3\\lib\\site-packages (from ipython->ipython-sql) (0.2.0)\n",
      "Requirement already satisfied: pygments>=2.4.0 in c:\\users\\13437\\anaconda3\\lib\\site-packages (from ipython->ipython-sql) (2.11.2)\n",
      "Requirement already satisfied: colorama in c:\\users\\13437\\anaconda3\\lib\\site-packages (from ipython->ipython-sql) (0.4.6)\n",
      "Requirement already satisfied: traitlets>=5 in c:\\users\\13437\\anaconda3\\lib\\site-packages (from ipython->ipython-sql) (5.7.1)\n",
      "Requirement already satisfied: decorator in c:\\users\\13437\\anaconda3\\lib\\site-packages (from ipython->ipython-sql) (5.1.1)\n",
      "Requirement already satisfied: prompt-toolkit<3.1.0,>=3.0.30 in c:\\users\\13437\\anaconda3\\lib\\site-packages (from ipython->ipython-sql) (3.0.36)\n",
      "Requirement already satisfied: stack-data in c:\\users\\13437\\anaconda3\\lib\\site-packages (from ipython->ipython-sql) (0.2.0)\n",
      "Requirement already satisfied: jedi>=0.16 in c:\\users\\13437\\anaconda3\\lib\\site-packages (from ipython->ipython-sql) (0.18.1)\n",
      "Requirement already satisfied: pickleshare in c:\\users\\13437\\anaconda3\\lib\\site-packages (from ipython->ipython-sql) (0.7.5)\n",
      "Requirement already satisfied: matplotlib-inline in c:\\users\\13437\\anaconda3\\lib\\site-packages (from ipython->ipython-sql) (0.1.6)\n",
      "Requirement already satisfied: wcwidth in c:\\users\\13437\\anaconda3\\lib\\site-packages (from prettytable->ipython-sql) (0.2.5)\n",
      "Requirement already satisfied: parso<0.9.0,>=0.8.0 in c:\\users\\13437\\anaconda3\\lib\\site-packages (from jedi>=0.16->ipython->ipython-sql) (0.8.3)\n",
      "Requirement already satisfied: executing in c:\\users\\13437\\anaconda3\\lib\\site-packages (from stack-data->ipython->ipython-sql) (0.8.3)\n",
      "Requirement already satisfied: pure-eval in c:\\users\\13437\\anaconda3\\lib\\site-packages (from stack-data->ipython->ipython-sql) (0.2.2)\n",
      "Requirement already satisfied: asttokens in c:\\users\\13437\\anaconda3\\lib\\site-packages (from stack-data->ipython->ipython-sql) (2.0.5)\n",
      "Installing collected packages: sqlparse, sqlalchemy, prettytable, ipython-sql\n",
      "  Attempting uninstall: sqlalchemy\n",
      "    Found existing installation: SQLAlchemy 1.4.39\n",
      "    Uninstalling SQLAlchemy-1.4.39:\n",
      "      Successfully uninstalled SQLAlchemy-1.4.39\n",
      "Successfully installed ipython-sql-0.5.0 prettytable-3.8.0 sqlalchemy-2.0.18 sqlparse-0.4.4\n"
     ]
    }
   ],
   "source": [
    "!pip install ipython-sql"
   ]
  },
  {
   "cell_type": "code",
   "execution_count": 45,
   "id": "fe3d1aea",
   "metadata": {},
   "outputs": [],
   "source": [
    "import sqlite3\n",
    "#create in-memory SQLite database and establish connection\n",
    "conn = sqlite3.connect(':memory:')\n",
    "cursor = conn.cursor()\n",
    "\n",
    "#create weather table\n",
    "cursor.execute(\"CREATE TABLE weather (City TEXT, Country TEXT, Season TEXT, Temperature FLOAT, Rainfall FLOAT)\")\n",
    "\n",
    "#Insert data into weather table\n",
    "data = [\n",
    "    ('Mumbai','India','Winter',24.8,5.9),\n",
    "    ('Mumbai','India','Spring',28.4,16.2),\n",
    "    ('Mumbai','India','Summer',27.9,1549.4),\n",
    "    ('Mumbai','India','Fall',27.6,346.0),\n",
    "    ('London','United Kingdom','Winter',4.2,207.7),\n",
    "    ('London','United Kingdom','Spring',8.3,169.6),\n",
    "    ('London','United Kingdom','Summer',15.7,157.0),\n",
    "    ('London','United Kingdom','Fall',10.4,218.5),\n",
    "    ('Cairo','Egypt','Winter',13.6,16.5),\n",
    "    ('Cairo','Egypt','Spring',20.7,6.5),\n",
    "    ('Cairo','Egypt','Summer',27.7,0.1),\n",
    "    ('Cairo','Egypt','Fall',22.2,4.5)\n",
    "]\n",
    "cursor.executemany('INSERT INTO weather VALUES (?, ?, ?, ?, ?)', data)\n",
    "\n",
    "#Commit changes\n",
    "conn.commit()"
   ]
  },
  {
   "cell_type": "code",
   "execution_count": 46,
   "id": "c54ca486",
   "metadata": {},
   "outputs": [
    {
     "name": "stdout",
     "output_type": "stream",
     "text": [
      "Temperature data:\n",
      "[(24.8,), (28.4,), (27.9,), (27.6,), (4.2,), (8.3,), (15.7,), (10.4,), (13.6,), (20.7,), (27.7,), (22.2,)]\n"
     ]
    }
   ],
   "source": [
    "#a) Display all the temperature data\n",
    "cursor.execute('SELECT Temperature FROM weather')\n",
    "print(\"Temperature data:\")\n",
    "print(cursor.fetchall())"
   ]
  },
  {
   "cell_type": "code",
   "execution_count": 47,
   "id": "4cdbf280",
   "metadata": {},
   "outputs": [
    {
     "name": "stdout",
     "output_type": "stream",
     "text": [
      "\n",
      "Cities:\n",
      "[('Mumbai',), ('London',), ('Cairo',)]\n"
     ]
    }
   ],
   "source": [
    "#b) Display all the cities without repetition\n",
    "cursor.execute('SELECT DISTINCT City FROM weather')\n",
    "print(\"\\nCities:\")\n",
    "print(cursor.fetchall())"
   ]
  },
  {
   "cell_type": "code",
   "execution_count": 48,
   "id": "d44b32e2",
   "metadata": {},
   "outputs": [
    {
     "name": "stdout",
     "output_type": "stream",
     "text": [
      "\n",
      "Records for India:\n",
      "[('Mumbai', 'India', 'Winter', 24.8, 5.9), ('Mumbai', 'India', 'Spring', 28.4, 16.2), ('Mumbai', 'India', 'Summer', 27.9, 1549.4), ('Mumbai', 'India', 'Fall', 27.6, 346.0)]\n"
     ]
    }
   ],
   "source": [
    "#c) Display all the records for india\n",
    "cursor.execute(\"SELECT * FROM weather WHERE Country = 'India'\")\n",
    "print(\"\\nRecords for India:\")\n",
    "print(cursor.fetchall())"
   ]
  },
  {
   "cell_type": "code",
   "execution_count": 49,
   "id": "022fc491",
   "metadata": {},
   "outputs": [
    {
     "name": "stdout",
     "output_type": "stream",
     "text": [
      "\n",
      "Fall records\n",
      "[('Mumbai', 'India', 'Fall', 27.6, 346.0), ('London', 'United Kingdom', 'Fall', 10.4, 218.5), ('Cairo', 'Egypt', 'Fall', 22.2, 4.5)]\n"
     ]
    }
   ],
   "source": [
    "#d) Display all the fall records\n",
    "cursor.execute(\"SELECT * FROM weather WHERE Season = 'Fall'\")\n",
    "print(\"\\nFall records\")\n",
    "print(cursor.fetchall())\n"
   ]
  },
  {
   "cell_type": "code",
   "execution_count": 50,
   "id": "bfb968ee",
   "metadata": {},
   "outputs": [
    {
     "name": "stdout",
     "output_type": "stream",
     "text": [
      "\n",
      "City, country, and season with average rainfall between 200 and 400 millimeters:\n",
      "[('Mumbai', 'India', 'Fall'), ('London', 'United Kingdom', 'Winter'), ('London', 'United Kingdom', 'Fall')]\n"
     ]
    }
   ],
   "source": [
    "#e) Display the city, country and season for which the average rainfall is between 200 and 400 millimeters\n",
    "cursor.execute(\"SELECT City, Country, Season FROM weather WHERE Rainfall BETWEEN 200 AND 400\")\n",
    "print(\"\\nCity, country, and season with average rainfall between 200 and 400 millimeters:\")\n",
    "print(cursor.fetchall())"
   ]
  },
  {
   "cell_type": "code",
   "execution_count": 51,
   "id": "b1fc7c48",
   "metadata": {},
   "outputs": [
    {
     "name": "stdout",
     "output_type": "stream",
     "text": [
      "\n",
      "City and Country with average Fall temperature above 20 degress, in increasing temperature order:\n",
      "[('Cairo', 'Egypt'), ('Mumbai', 'India')]\n"
     ]
    }
   ],
   "source": [
    "#f) Display the city and country for which the average fall temperature is above 20 degrees, in increasing temperature order.\n",
    "cursor.execute(\"SELECT City, Country FROM weather WHERE Season = 'Fall' AND Temperature > 20 ORDER BY Temperature ASC\")\n",
    "print(\"\\nCity and Country with average Fall temperature above 20 degress, in increasing temperature order:\")\n",
    "print(cursor.fetchall())"
   ]
  },
  {
   "cell_type": "code",
   "execution_count": 52,
   "id": "292dd8d7",
   "metadata": {},
   "outputs": [
    {
     "name": "stdout",
     "output_type": "stream",
     "text": [
      "\n",
      "Total annual rainfall for Cairo: 27.6\n"
     ]
    }
   ],
   "source": [
    "#g) Display the total annual rainfall for cairo\n",
    "cursor.execute(\"SELECT SUM(Rainfall) FROM weather WHERE City = 'Cairo'\")\n",
    "total_rainfall = cursor.fetchone()[0]\n",
    "print(\"\\nTotal annual rainfall for Cairo:\", total_rainfall)"
   ]
  },
  {
   "cell_type": "code",
   "execution_count": 53,
   "id": "9170ff1f",
   "metadata": {},
   "outputs": [
    {
     "name": "stdout",
     "output_type": "stream",
     "text": [
      "\n",
      "Total rainfall for each season:\n",
      "[('Fall', 569.0), ('Spring', 192.29999999999998), ('Summer', 1706.5), ('Winter', 230.1)]\n"
     ]
    }
   ],
   "source": [
    "#h) Display the total rainfall for each season\n",
    "cursor.execute(\"SELECT Season, SUM(Rainfall) FROM weather GROUP BY Season\")\n",
    "print(\"\\nTotal rainfall for each season:\")\n",
    "print(cursor.fetchall())"
   ]
  },
  {
   "cell_type": "markdown",
   "id": "6bfe586a",
   "metadata": {},
   "source": [
    "Question 9"
   ]
  },
  {
   "cell_type": "code",
   "execution_count": 54,
   "id": "dcc6b73c",
   "metadata": {},
   "outputs": [
    {
     "data": {
      "text/plain": [
       "['The', 'quick', 'brown', 'fox', 'jumps', 'over', 'the', 'lazy', 'dog']"
      ]
     },
     "execution_count": 54,
     "metadata": {},
     "output_type": "execute_result"
    }
   ],
   "source": [
    "words = ['The', 'quick', 'brown', 'fox', 'jumps', 'over', 'the', 'lazy', 'dog']\n",
    "words"
   ]
  },
  {
   "cell_type": "code",
   "execution_count": 56,
   "id": "9c0f67b4",
   "metadata": {},
   "outputs": [
    {
     "name": "stdout",
     "output_type": "stream",
     "text": [
      "['THE', 'QUICK', 'BROWN', 'FOX', 'JUMPS', 'OVER', 'THE', 'LAZY', 'DOG']\n",
      "['the', 'quick', 'brown', 'fox', 'jumps', 'over', 'the', 'lazy', 'dog']\n",
      "[3, 5, 5, 3, 5, 4, 3, 4, 3]\n",
      "[['THE', 'the', 3], ['QUICK', 'quick', 5], ['BROWN', 'brown', 5], ['FOX', 'fox', 3], ['JUMPS', 'jumps', 5], ['OVER', 'over', 4], ['THE', 'the', 3], ['LAZY', 'lazy', 4], ['DOG', 'dog', 3]]\n",
      "['quick', 'brown', 'jumps', 'over', 'lazy']\n"
     ]
    }
   ],
   "source": [
    "a = [word.upper() for word in words]\n",
    "b = [word.lower() for word in words]\n",
    "c = [len(word) for word in words]\n",
    "d = [[word.upper(), word.lower(), len(word)] for word in words]\n",
    "e = [word for word in words if len(word) >=4]\n",
    "\n",
    "#print the generated list\n",
    "print(a)\n",
    "print(b)\n",
    "print(c)\n",
    "print(d)\n",
    "print(e)"
   ]
  }
 ],
 "metadata": {
  "kernelspec": {
   "display_name": "Python 3 (ipykernel)",
   "language": "python",
   "name": "python3"
  },
  "language_info": {
   "codemirror_mode": {
    "name": "ipython",
    "version": 3
   },
   "file_extension": ".py",
   "mimetype": "text/x-python",
   "name": "python",
   "nbconvert_exporter": "python",
   "pygments_lexer": "ipython3",
   "version": "3.10.9"
  }
 },
 "nbformat": 4,
 "nbformat_minor": 5
}
